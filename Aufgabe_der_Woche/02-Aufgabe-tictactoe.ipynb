{
 "cells": [
  {
   "cell_type": "markdown",
   "metadata": {},
   "source": [
    "## April Woche 2: Tic Tac Toe"
   ]
  },
  {
   "cell_type": "markdown",
   "metadata": {},
   "source": [
    "Willkommen zu unserer Aufgabe der Woche!\n",
    "\n",
    "Der Bundeswettbewerb Künstliche Intelligenz stellt euch jede Woche von April bis Ende Juni eine spannende oder kniffelige Programmieraufgabe, in der ihr euer Programmiergeschick auf die Probe stellen könnt.\n",
    "\n",
    "Jede Woche habt ihr die Chance auf einen Gewinn! Wer jede Aufgabe in einem Monat einschickt, nimmt in der Monatsverlosung teil und kann gewinnen! Ihr könnt eure Lösung immer bis Sonntag 22 Uhr der gleichen Woche per Mail an aufgabe@bw-ki.de einreichen.\n",
    "\n",
    "Es werden nur korrekte Lösungen berücksichtigt. Voraussetzung für die Teilnahme ist die Registrierung eures vollständigen Accounts im Loginbereich des Bundeswettbewerbs Künstliche Intelligenz. Es gelten die Teilnahmebedingungen und Datenschuztrichtlinien des Wettbewerbs."
   ]
  },
  {
   "cell_type": "markdown",
   "metadata": {},
   "source": [
    "Dein vollständiger Name:\n",
    "\n",
    "Deine E-Mailadresse:"
   ]
  },
  {
   "cell_type": "markdown",
   "metadata": {},
   "source": [
    "## In dieser Aufgabe geht es darum Tic Tac Toe zu programmieren."
   ]
  },
  {
   "cell_type": "markdown",
   "metadata": {},
   "source": [
    "Dein Ziel ist, dass zwei menschliche Spieler gegeneinander Tic Tac Toe spielen können, in dem sie ihr gewünschtes Feld eingeben und dann das neue Spielfeld angezeigt wird.\n",
    "\n",
    "Du musst den folgenden Code bei \"...\" erweitern."
   ]
  },
  {
   "cell_type": "code",
   "execution_count": 2,
   "metadata": {},
   "outputs": [],
   "source": [
    "# Spielfeld erstellen\n",
    "def init_spielfeld():\n",
    "    spielfeld = [\" \",\n",
    "                 \"1\",\"2\",\"3\",\n",
    "                 \"4\",\"5\",\"6\",\n",
    "                 \"7\",\"8\",\"9\"]\n",
    "    return spielfeld\n",
    "\n",
    "# Da die Indizierung bei 0 beginnt, das aber zu Verwirrung führen kann, bleibt das erste Feld leer."
   ]
  },
  {
   "cell_type": "code",
   "execution_count": 1,
   "metadata": {},
   "outputs": [],
   "source": [
    "# Spielfeld ausgegeben\n",
    "# Das Spielfeld besteht aus den Zahlen 1 bis 9 auf einem drei mal drei Feld.\n",
    "\n",
    "def spielfeld_ausgeben(spielfeld):\n",
    "    print(...)\n",
    "\n",
    "# überprüfe deine Funktion\n",
    "spielfeld = init_spielfeld()\n",
    "spielfeld_ausgeben(spielfeld)"
   ]
  },
  {
   "cell_type": "code",
   "execution_count": 4,
   "metadata": {},
   "outputs": [],
   "source": [
    "# Spieler gibt gewünschtes Feld (1-9) oder Abbruch (0) ein\n",
    "\n",
    "def eingabe():\n",
    "    while True:\n",
    "        feld = input(\"Auf welches Feld möchtest du setzen (1-9)? 0 beendet das Spiel.\")\n",
    "        feld = int(feld)\n",
    "        return feld"
   ]
  },
  {
   "cell_type": "code",
   "execution_count": null,
   "metadata": {},
   "outputs": [],
   "source": [
    "# Korrekte Eingabe überprüfen\n",
    "# Die Funktion bekommt das gewünschte Feld und das Spielfeld übergeben. Wenn das Feld eine Zahl zwischen 1 und 9 ist\n",
    "# und dieses Feld noch frei ist, soll die Funktion \"True\" zurück geben, ansonsten \"False\".\n",
    "\n",
    "def korrekt(feld, spielfeld):\n",
    "    ..."
   ]
  },
  {
   "cell_type": "code",
   "execution_count": null,
   "metadata": {},
   "outputs": [],
   "source": [
    "# Spieler 1 beginnt\n",
    "spieler = 1\n",
    "\n",
    "# Es kann 9 mal ein Feld belegt werden\n",
    "counter = 0\n",
    "\n",
    "\n",
    "while True:\n",
    "    # Eingabe des Zuges\n",
    "    print(\"Es ist Spieler \", spieler, \" am Zug.\")\n",
    "    feld = eingabe()\n",
    "    \n",
    "    # Spiel beenden, wenn die Eingabe 0 ist\n",
    "    ...\n",
    "    \n",
    "    \n",
    "    # Bei korrekter Eingabe Spielzug ausführen\n",
    "    if korrekt(feld, spielfeld):\n",
    "        if spieler == 1:\n",
    "            spielfeld[feld] = 'X'\n",
    "            spieler = 2\n",
    "        else:\n",
    "            spielfeld[feld] = '0'\n",
    "            spieler = 1\n",
    "            \n",
    "    # ansonsten nochmals Eingabe einfordern\n",
    "    else:\n",
    "        print(\"Bitte ein korrektes Feld eingeben.\")\n",
    "        ...        \n",
    "    \n",
    "    spielfeld_ausgeben()\n",
    "    \n",
    "    # Counter für Spielrunden hochzählen.\n",
    "    # Wenn alle Felder belegt sind, soll das Spiel beendet werden\n",
    "    ...    \n",
    "        \n",
    "   "
   ]
  },
  {
   "cell_type": "markdown",
   "metadata": {},
   "source": [
    "Super! Jetzt kannst du Tic Tac Toe gegen einen menschlichen Mitspieler spielen!"
   ]
  },
  {
   "cell_type": "code",
   "execution_count": 2,
   "metadata": {},
   "outputs": [],
   "source": [
    "# Zusatzaufgabe: Schreibe eine Funktion, die erkennt, ob ein Spieler gewonnen hat!"
   ]
  },
  {
   "cell_type": "markdown",
   "metadata": {},
   "source": [
    "## Feedback für uns\n",
    "War diese Aufgabe zu leicht, zu schwer oder genau richtig?\n",
    "\n",
    "Wie lang hast du für diese Aufgabe ungefähr gebraucht?\n",
    "\n",
    "Welche Art von Aufgaben wünschst du dir in Zukunft?"
   ]
  }
 ],
 "metadata": {
  "kernelspec": {
   "display_name": "Python 3",
   "language": "python",
   "name": "python3"
  },
  "language_info": {
   "codemirror_mode": {
    "name": "ipython",
    "version": 3
   },
   "file_extension": ".py",
   "mimetype": "text/x-python",
   "name": "python",
   "nbconvert_exporter": "python",
   "pygments_lexer": "ipython3",
   "version": "3.7.4"
  }
 },
 "nbformat": 4,
 "nbformat_minor": 2
}
