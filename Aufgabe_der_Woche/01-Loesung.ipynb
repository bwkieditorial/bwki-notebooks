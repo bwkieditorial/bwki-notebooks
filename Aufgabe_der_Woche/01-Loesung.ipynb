{
 "cells": [
  {
   "cell_type": "markdown",
   "metadata": {},
   "source": [
    "## April Woche 1: 1-2-Künstliche-4-Intelligenz"
   ]
  },
  {
   "cell_type": "markdown",
   "metadata": {},
   "source": [
    "Willkommen zu unserer Aufgabe der Woche!\n",
    "\n",
    "Der Bundeswettbewerb Künstliche Intelligenz stellt euch jede Woche von April bis Ende Juni eine spannende oder kniffelige Programmieraufgabe, in der ihr euer Programmiergeschick auf die Probe stellen könnt.\n",
    "\n",
    "Jede Woche habt ihr die Chance auf einen Gewinn! Wer jede Aufgabe in einem Monat einschickt, nimmt in der Monatsverlosung teil und kann gewinnen! Ihr könnt eure Lösung immer bis Sonntag 22 Uhr der gleichen Woche per Mail an aufgabe@bw-ki.de einreichen.\n",
    "\n",
    "Es werden nur korrekte Lösungen berücksichtigt. Voraussetzung für die Teilnahme ist die Registrierung eures vollständigen Accounts im Loginbereich des Bundeswettbewerbs Künstliche Intelligenz. Es gelten die Teilnahmebedingungen und Datenschuztrichtlinien des Wettbewerbs."
   ]
  },
  {
   "cell_type": "markdown",
   "metadata": {},
   "source": [
    "Dein vollständiger Name:\n",
    "\n",
    "Deine E-Mailadresse:"
   ]
  },
  {
   "cell_type": "markdown",
   "metadata": {},
   "source": [
    "## In dieser Aufgabe programmieren wir ein Zahlenspiel"
   ]
  },
  {
   "cell_type": "markdown",
   "metadata": {},
   "source": [
    "In dieser Aufgabe sollst du ein Programm schreiben,\n",
    "dass Zahlen von 1 bis 100 ausschreibt und \n",
    "für jede Zahl, die durch 3 teilbar ist, \"Künstliche\" schreibt, \n",
    "für jede Zahl, die durch 5 teilbar ist, \"Intelligenz\" schreibt und\n",
    "für Zahlen, die durch 3 und durch 5 teilbar sind, \"BWKI\" schreibt."
   ]
  },
  {
   "cell_type": "markdown",
   "metadata": {},
   "source": [
    "Für diese Aufgabe kannst du Modulo verwenden. Modulo, \"%\" geschrieben, gibt dir den Rest einer Division aus:"
   ]
  },
  {
   "cell_type": "code",
   "execution_count": 6,
   "metadata": {},
   "outputs": [
    {
     "name": "stdout",
     "output_type": "stream",
     "text": [
      "3.6666666666666665\n",
      "3\n",
      "2\n"
     ]
    }
   ],
   "source": [
    "# Division\n",
    "print(11/ 3)\n",
    "# ganzzahlige Division\n",
    "print(11 // 3)\n",
    "# Rest der Division\n",
    "print(11 % 3)"
   ]
  },
  {
   "cell_type": "code",
   "execution_count": 11,
   "metadata": {},
   "outputs": [
    {
     "name": "stdout",
     "output_type": "stream",
     "text": [
      "1\n",
      "2\n",
      "Künstliche\n",
      "4\n",
      "Intelligenz\n",
      "Künstliche\n",
      "7\n",
      "8\n",
      "Künstliche\n",
      "Intelligenz\n",
      "11\n",
      "Künstliche\n",
      "13\n",
      "14\n",
      "BWKI\n",
      "16\n",
      "17\n",
      "Künstliche\n",
      "19\n",
      "Intelligenz\n",
      "Künstliche\n",
      "22\n",
      "23\n",
      "Künstliche\n",
      "Intelligenz\n",
      "26\n",
      "Künstliche\n",
      "28\n",
      "29\n",
      "BWKI\n",
      "31\n",
      "32\n",
      "Künstliche\n",
      "34\n",
      "Intelligenz\n",
      "Künstliche\n",
      "37\n",
      "38\n",
      "Künstliche\n",
      "Intelligenz\n",
      "41\n",
      "Künstliche\n",
      "43\n",
      "44\n",
      "BWKI\n",
      "46\n",
      "47\n",
      "Künstliche\n",
      "49\n",
      "Intelligenz\n",
      "Künstliche\n",
      "52\n",
      "53\n",
      "Künstliche\n",
      "Intelligenz\n",
      "56\n",
      "Künstliche\n",
      "58\n",
      "59\n",
      "BWKI\n",
      "61\n",
      "62\n",
      "Künstliche\n",
      "64\n",
      "Intelligenz\n",
      "Künstliche\n",
      "67\n",
      "68\n",
      "Künstliche\n",
      "Intelligenz\n",
      "71\n",
      "Künstliche\n",
      "73\n",
      "74\n",
      "BWKI\n",
      "76\n",
      "77\n",
      "Künstliche\n",
      "79\n",
      "Intelligenz\n",
      "Künstliche\n",
      "82\n",
      "83\n",
      "Künstliche\n",
      "Intelligenz\n",
      "86\n",
      "Künstliche\n",
      "88\n",
      "89\n",
      "BWKI\n",
      "91\n",
      "92\n",
      "Künstliche\n",
      "94\n",
      "Intelligenz\n",
      "Künstliche\n",
      "97\n",
      "98\n",
      "Künstliche\n",
      "Intelligenz\n"
     ]
    }
   ],
   "source": [
    "for i in range(1, 101):\n",
    "    if i % 3 == 0:\n",
    "        if i % 5 == 0:\n",
    "            print(\"BWKI\")\n",
    "        else:\n",
    "            print(\"Künstliche\")\n",
    "    elif i % 5 == 0:\n",
    "        print(\"Intelligenz\")\n",
    "    else:\n",
    "        print(i)"
   ]
  },
  {
   "cell_type": "markdown",
   "metadata": {},
   "source": [
    "## Feedback für uns\n",
    "War diese Aufgabe zu leicht, zu schwer oder genau richtig?\n",
    "\n",
    "Wie lang hast du für diese Aufgabe ungefähr gebraucht?\n",
    "\n",
    "Welche Art von Aufgaben wünschst du dir in Zukunft?"
   ]
  }
 ],
 "metadata": {
  "kernelspec": {
   "display_name": "Python 3",
   "language": "python",
   "name": "python3"
  },
  "language_info": {
   "codemirror_mode": {
    "name": "ipython",
    "version": 3
   },
   "file_extension": ".py",
   "mimetype": "text/x-python",
   "name": "python",
   "nbconvert_exporter": "python",
   "pygments_lexer": "ipython3",
   "version": "3.7.4"
  }
 },
 "nbformat": 4,
 "nbformat_minor": 2
}
