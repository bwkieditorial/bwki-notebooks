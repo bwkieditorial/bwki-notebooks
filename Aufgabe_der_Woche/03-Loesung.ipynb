{
 "cells": [
  {
   "cell_type": "markdown",
   "metadata": {},
   "source": [
    "## April Woche 3: Tic Tac Toe - KI"
   ]
  },
  {
   "cell_type": "markdown",
   "metadata": {},
   "source": [
    "Willkommen zu unserer Aufgabe der Woche!\n",
    "\n",
    "Der Bundeswettbewerb Künstliche Intelligenz stellt euch jede Woche von April bis Ende Juni eine spannende oder kniffelige Programmieraufgabe, in der ihr euer Programmiergeschick auf die Probe stellen könnt.\n",
    "\n",
    "Jede Woche habt ihr die Chance auf einen Gewinn! Wer jede Aufgabe in einem Monat einschickt, nimmt in der Monatsverlosung teil und kann gewinnen! Ihr könnt eure Lösung immer bis Sonntag 22 Uhr der gleichen Woche per Mail an aufgabe@bw-ki.de einreichen.\n",
    "\n",
    "Es werden nur korrekte Lösungen berücksichtigt. Voraussetzung für die Teilnahme ist die Registrierung eures vollständigen Accounts im Loginbereich des Bundeswettbewerbs Künstliche Intelligenz. Es gelten die Teilnahmebedingungen und Datenschuztrichtlinien des Wettbewerbs."
   ]
  },
  {
   "cell_type": "markdown",
   "metadata": {},
   "source": [
    "Dein vollständiger Name:\n",
    "\n",
    "Deine E-Mailadresse:"
   ]
  },
  {
   "cell_type": "code",
   "execution_count": null,
   "metadata": {},
   "outputs": [],
   "source": []
  },
  {
   "cell_type": "markdown",
   "metadata": {},
   "source": [
    "## In dieser Aufgabe geht es darum eine einfache KI für Tic Tac Toe zu programmieren."
   ]
  },
  {
   "cell_type": "markdown",
   "metadata": {},
   "source": [
    "Dein Ziel ist, dass du gegen eine KI Tic Tac Toe spielen kannst und dass du zwei KIs gegeneinander antreten lassen kannst.\n",
    "\n",
    "Du musst den folgenden Code bei \"...\" erweitern."
   ]
  },
  {
   "cell_type": "code",
   "execution_count": 2,
   "metadata": {},
   "outputs": [],
   "source": [
    "# Wir erstellen das Spielfeld.\n",
    "def init_spielfeld():\n",
    "    spielfeld = [\" \",\n",
    "                 \"1\",\"2\",\"3\",\n",
    "                 \"4\",\"5\",\"6\",\n",
    "                 \"7\",\"8\",\"9\"]\n",
    "    return spielfeld\n",
    "\n",
    "# Da die Indizierung bei 0 beginnt, das aber zu Verwirrung führen kann, bleibt das erste Feld leer."
   ]
  },
  {
   "cell_type": "code",
   "execution_count": 3,
   "metadata": {},
   "outputs": [
    {
     "name": "stdout",
     "output_type": "stream",
     "text": [
      "1|2|3\n",
      "4|5|6\n",
      "7|8|9\n"
     ]
    }
   ],
   "source": [
    "# Das Spielfeld wird ausgegeben\n",
    "\n",
    "def spielfeld_ausgeben(spielfeld):\n",
    "    print (spielfeld[1] + \"|\" + spielfeld[2] + \"|\" + spielfeld[3] )\n",
    "    print (spielfeld[4] + \"|\" + spielfeld[5] + \"|\" + spielfeld[6] )\n",
    "    print (spielfeld[7] + \"|\" + spielfeld[8] + \"|\" + spielfeld[9] )\n",
    "\n",
    "\n",
    "spielfeld = init_spielfeld()\n",
    "spielfeld_ausgeben(spielfeld)"
   ]
  },
  {
   "cell_type": "code",
   "execution_count": 4,
   "metadata": {},
   "outputs": [],
   "source": [
    "# Spieler gibt gewünschtes Feld ein\n",
    "\n",
    "def eingabe():\n",
    "    while True:\n",
    "        feld = input(\"Auf welches Feld möchtest du setzen (1-9)? 0 beendet das Spiel.\")\n",
    "        feld = int(feld)\n",
    "        return feld"
   ]
  },
  {
   "cell_type": "markdown",
   "metadata": {},
   "source": [
    "Damit du gegen eine KI spielen kannst, müssen wir den Code von letzter Woche anpassen."
   ]
  },
  {
   "cell_type": "code",
   "execution_count": 5,
   "metadata": {},
   "outputs": [],
   "source": [
    "import random\n",
    "\n",
    "def eingabe_ki_zufaellig():\n",
    "    feld = int(random.randrange(1,10))\n",
    "    return feld"
   ]
  },
  {
   "cell_type": "code",
   "execution_count": 6,
   "metadata": {},
   "outputs": [],
   "source": [
    "def eingabe_ki_simpel(spielfeld):\n",
    "    win = gewonnen_next(spielfeld)\n",
    "    if False:\n",
    "        feld = int(random.randrange(1,10))\n",
    "    else:\n",
    "        feld = win\n",
    "        \n",
    "    return feld"
   ]
  },
  {
   "cell_type": "code",
   "execution_count": 7,
   "metadata": {},
   "outputs": [],
   "source": [
    "# Diese Funktion soll ein Feld zurück geben, mit dem in der nächsten Runde gewonnen oder sonst verloren wird\n",
    "# oder \"False\", falls es nicht möglich ist zu gewinnen oder zu verlieren.\n",
    "\n",
    "def gewonnen_next(spielfeld):\n",
    "    ..."
   ]
  },
  {
   "cell_type": "code",
   "execution_count": 12,
   "metadata": {},
   "outputs": [
    {
     "name": "stdout",
     "output_type": "stream",
     "text": [
      "Wer ist dein Gegenspieler? Mensch, ki_zufaellig oder ki_simpel?Mensch\n",
      "Es ist Spieler  1  am Zug.\n",
      "Auf welches Feld möchtest du setzen (1-9)? 0 beendet das Spiel.1\n",
      "1  wurde gewählt.\n",
      "X|2|3\n",
      "4|5|6\n",
      "7|8|9\n",
      "Es ist Spieler  Mensch  am Zug.\n",
      "Auf welches Feld möchtest du setzen (1-9)? 0 beendet das Spiel.2\n",
      "2  wurde gewählt.\n",
      "X|O|3\n",
      "4|5|6\n",
      "7|8|9\n",
      "Es ist Spieler  1  am Zug.\n",
      "Auf welches Feld möchtest du setzen (1-9)? 0 beendet das Spiel.1\n",
      "1  wurde gewählt.\n",
      "Bitte ein korrektes Feld eingeben.\n",
      "Es ist Spieler  1  am Zug.\n",
      "Auf welches Feld möchtest du setzen (1-9)? 0 beendet das Spiel.0\n",
      "0  wurde gewählt.\n",
      "Das Spiel wurde beendet.\n"
     ]
    }
   ],
   "source": [
    "# Es kann 9 mal ein Feld belegt werden\n",
    "counter = 0\n",
    "\n",
    "ki = input(\"Wer ist dein Gegenspieler? Mensch, ki_zufaellig oder ki_simpel?\")\n",
    "\n",
    "spieler = 1\n",
    "\n",
    "# Spielfeld initialisieren\n",
    "spielfeld = init_spielfeld()\n",
    "\n",
    "while True:\n",
    "    # Eingabe des Zuges\n",
    "    print(\"Es ist Spieler \", spieler, \" am Zug.\")\n",
    "    if spieler == 1:\n",
    "        feld = eingabe()\n",
    "    if spieler == ki:\n",
    "        if ki == \"Mensch\":\n",
    "            feld = eingabe()\n",
    "        elif spieler == \"ki_zufaellig\":\n",
    "            feld = eingabe_ki_zufaellig()\n",
    "        elif spieler == \"ki_simpel\":\n",
    "            feld = eingabe_ki_simpel(spielfeld)\n",
    "            \n",
    "    print(feld, \" wurde gewählt.\")    \n",
    "    if feld == 0:\n",
    "        print(\"Das Spiel wurde beendet.\")\n",
    "        break\n",
    "        \n",
    "    # auf korrekte Eingabe überprüfen und Spielzug ausführen\n",
    "    elif feld >= 1 and feld <= 9 and spielfeld[feld] != 'X' and spielfeld[feld] != 'O':\n",
    "        if spieler == 1:\n",
    "            spielfeld[feld] = 'X'\n",
    "            spieler = ki\n",
    "        else:\n",
    "            spielfeld[feld] = 'O'\n",
    "            spieler = 1\n",
    "    else:\n",
    "        print(\"Bitte ein korrektes Feld eingeben.\")\n",
    "        continue\n",
    "    \n",
    "    spielfeld_ausgeben(spielfeld)\n",
    "    \n",
    "    # sind alle Felder belegt?\n",
    "    counter += 1\n",
    "    if counter == 9:\n",
    "        print(\"Das Spiel ist zu Ende.\")\n",
    "        break\n",
    "        \n",
    "    "
   ]
  },
  {
   "cell_type": "markdown",
   "metadata": {},
   "source": [
    "## Feedback für uns\n",
    "War diese Aufgabe zu leicht, zu schwer oder genau richtig?\n",
    "\n",
    "Wie lang hast du für diese Aufgabe ungefähr gebraucht?\n",
    "\n",
    "Welche Art von Aufgaben wünschst du dir in Zukunft?"
   ]
  }
 ],
 "metadata": {
  "kernelspec": {
   "display_name": "Python 3",
   "language": "python",
   "name": "python3"
  },
  "language_info": {
   "codemirror_mode": {
    "name": "ipython",
    "version": 3
   },
   "file_extension": ".py",
   "mimetype": "text/x-python",
   "name": "python",
   "nbconvert_exporter": "python",
   "pygments_lexer": "ipython3",
   "version": "3.7.4"
  }
 },
 "nbformat": 4,
 "nbformat_minor": 2
}
